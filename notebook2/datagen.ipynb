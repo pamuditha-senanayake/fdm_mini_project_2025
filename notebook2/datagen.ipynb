{
 "cells": [
  {
   "metadata": {
    "ExecuteTime": {
     "end_time": "2025-10-03T06:46:42.443449Z",
     "start_time": "2025-10-03T06:46:42.171493Z"
    }
   },
   "cell_type": "code",
   "source": [
    "import pandas as pd\n",
    "import numpy as np\n",
    "\n",
    "np.random.seed(42)\n",
    "n = 50000\n",
    "\n",
    "# Customer demographics\n",
    "age = np.random.randint(18, 70, n)\n",
    "income_level = np.random.choice(['Low', 'Medium', 'High'], n, p=[0.3, 0.5, 0.2])\n",
    "gender = np.random.choice(['Male', 'Female'], n)\n",
    "\n",
    "# Customer segment correlated with income and age, with slight randomness\n",
    "customer_segment = []\n",
    "for a, inc in zip(age, income_level):\n",
    "    if inc == 'High' and a > 30:\n",
    "        seg = 'Premium'\n",
    "    elif inc == 'Low' and a < 40:\n",
    "        seg = 'Regular'\n",
    "    else:\n",
    "        seg = 'Occasional'\n",
    "    # 5% random flip for realism\n",
    "    if np.random.rand() < 0.05:\n",
    "        seg = np.random.choice(['Premium','Regular','Occasional'])\n",
    "    customer_segment.append(seg)\n",
    "\n",
    "# Products and spending correlated with segment\n",
    "product_category = np.random.choice(['Clothing', 'Electronics', 'Sports'], n)\n",
    "\n",
    "base_purchases = [3 if s=='Regular' else 5 if s=='Occasional' else 8 for s in customer_segment]\n",
    "total_purchases = np.random.poisson(lam=base_purchases)\n",
    "\n",
    "# Inject noise into Amount & Total_Amount\n",
    "amount = total_purchases * np.random.uniform(20, 100, n) + np.random.normal(0, 10, n)\n",
    "amount = np.clip(amount, 1, None)\n",
    "\n",
    "total_amount = amount + np.random.uniform(5, 50, n) + np.random.normal(0, 5, n)\n",
    "total_amount = np.clip(total_amount, 1, None)\n",
    "\n",
    "# Ratings with small variation\n",
    "ratings = np.clip(np.random.normal(4, 0.5, n), 1, 5)\n",
    "\n",
    "# Temporal features: end before Dec 2024\n",
    "dates = pd.date_range('2023-01-01', periods=n, freq='D')\n",
    "dates = dates[dates <= '2024-12-31']\n",
    "dates = np.random.choice(dates, n)  # shuffle dates for variety\n",
    "year = pd.to_datetime(dates).year\n",
    "month = pd.to_datetime(dates).month\n",
    "time = pd.to_datetime(np.random.randint(0, 86400, n), unit='s').time\n",
    "\n",
    "# Other features\n",
    "shipping_method = np.random.choice(['Same-Day', 'Standard', 'Express'], n)\n",
    "payment_method = np.random.choice(['Debit Card', 'Credit Card', 'PayPal'], n)\n",
    "\n",
    "# Build DataFrame\n",
    "df = pd.DataFrame({\n",
    "    'Age': age,\n",
    "    'Gender': gender,\n",
    "    'Income': income_level,\n",
    "    'Customer_Segment': customer_segment,\n",
    "    'Product_Category': product_category,\n",
    "    'Total_Purchases': total_purchases,\n",
    "    'Amount': amount,\n",
    "    'Total_Amount': total_amount,\n",
    "    'Ratings': ratings,\n",
    "    'Date': pd.to_datetime(dates),\n",
    "    'Year': year,\n",
    "    'Month': month,\n",
    "    'Time': [t.strftime(\"%H:%M:%S\") for t in time],\n",
    "    'Shipping_Method': shipping_method,\n",
    "    'Payment_Method': payment_method\n",
    "})\n",
    "\n",
    "df.to_csv('data.csv', index=False)\n",
    "print(\"Synthetic dataset saved as data.csv (with noise, dates <= 2024-12-31)\")\n"
   ],
   "id": "7365ee39ded29c12",
   "outputs": [
    {
     "name": "stdout",
     "output_type": "stream",
     "text": [
      "Synthetic dataset saved as data.csv (with noise, dates <= 2024-12-31)\n"
     ]
    }
   ],
   "execution_count": 1
  }
 ],
 "metadata": {
  "kernelspec": {
   "display_name": "Python 3",
   "language": "python",
   "name": "python3"
  },
  "language_info": {
   "codemirror_mode": {
    "name": "ipython",
    "version": 2
   },
   "file_extension": ".py",
   "mimetype": "text/x-python",
   "name": "python",
   "nbconvert_exporter": "python",
   "pygments_lexer": "ipython2",
   "version": "2.7.6"
  }
 },
 "nbformat": 4,
 "nbformat_minor": 5
}
