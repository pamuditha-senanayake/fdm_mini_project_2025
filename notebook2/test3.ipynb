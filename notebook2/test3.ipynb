{
 "cells": [
  {
   "cell_type": "code",
   "id": "initial_id",
   "metadata": {
    "collapsed": true,
    "ExecuteTime": {
     "end_time": "2025-10-03T05:34:09.128423Z",
     "start_time": "2025-10-03T05:33:39.929647Z"
    }
   },
   "source": [
    "# # -----------------------------\n",
    "# # 1️⃣ Imports\n",
    "# # -----------------------------\n",
    "# import pandas as pd\n",
    "# import numpy as np\n",
    "# from sklearn.model_selection import train_test_split\n",
    "# from sklearn.ensemble import RandomForestClassifier, RandomForestRegressor\n",
    "# from xgboost import XGBClassifier\n",
    "# from sklearn.metrics import accuracy_score, r2_score, mean_absolute_error\n",
    "#\n",
    "# # -----------------------------\n",
    "# # 2️⃣ Load dataset\n",
    "# # -----------------------------\n",
    "# df = pd.read_csv('../data/p4rocessed/data.csv')\n",
    "#\n",
    "# # -----------------------------\n",
    "# # 3️⃣ Add realistic noise\n",
    "# # -----------------------------\n",
    "# np.random.seed(42)\n",
    "# df['Total_Purchases'] = df['Total_Purchases'] + np.random.randint(-1, 2, size=len(df))\n",
    "# df['Total_Purchases'] = df['Total_Purchases'].clip(lower=1)  # ensure no negative purchases\n",
    "#\n",
    "# df['Amount'] = df['Amount'] + np.random.normal(0, 5, size=len(df))\n",
    "# df['Amount'] = df['Amount'].clip(lower=1)  # ensure no negative amounts\n",
    "#\n",
    "# # Slightly randomize Customer_Segment\n",
    "# df['Customer_Segment'] = df['Customer_Segment'].astype('category').cat.codes\n",
    "# # Add small noise in segments (simulate realistic behavior)\n",
    "# mask = np.random.rand(len(df)) < 0.05  # 5% of rows flip segment\n",
    "# df.loc[mask, 'Customer_Segment'] = (df.loc[mask, 'Customer_Segment'] + 1) % df['Customer_Segment'].nunique()\n",
    "#\n",
    "# # -----------------------------\n",
    "# # 4️⃣ Encode categorical features\n",
    "# # -----------------------------\n",
    "# for col in ['Gender', 'Income', 'Product_Category', 'Shipping_Method', 'Payment_Method']:\n",
    "#     df[col] = df[col].astype('category').cat.codes\n",
    "#\n",
    "# # -----------------------------\n",
    "# # 5️⃣ Features and targets\n",
    "# # -----------------------------\n",
    "# features = ['Age','Gender','Income','Total_Purchases','Total_Amount',\n",
    "#             'Product_Category','Shipping_Method','Payment_Method','Ratings']\n",
    "#\n",
    "# # Classification: Customer_Segment\n",
    "# X_cls = df[features]\n",
    "# y_cls = df['Customer_Segment']\n",
    "#\n",
    "# # Regression: Amount\n",
    "# X_reg = df[features]\n",
    "# y_reg = df['Amount']\n",
    "#\n",
    "# # Train/test split\n",
    "# X_cls_train, X_cls_test, y_cls_train, y_cls_test = train_test_split(X_cls, y_cls, test_size=0.2, random_state=42)\n",
    "# X_reg_train, X_reg_test, y_reg_train, y_reg_test = train_test_split(X_reg, y_reg, test_size=0.2, random_state=42)\n",
    "#\n",
    "# # -----------------------------\n",
    "# # 6️⃣ Classification: Random Forest\n",
    "# # -----------------------------\n",
    "# rf_cls = RandomForestClassifier(n_estimators=300, max_depth=12, random_state=42)\n",
    "# rf_cls.fit(X_cls_train, y_cls_train)\n",
    "# y_pred_rf_cls = rf_cls.predict(X_cls_test)\n",
    "# print(\"Random Forest Classifier Accuracy:\", round(accuracy_score(y_cls_test, y_pred_rf_cls), 3))\n",
    "#\n",
    "# # -----------------------------\n",
    "# # 7️⃣ Classification: XGBoost\n",
    "# # -----------------------------\n",
    "# xgb_cls = XGBClassifier(n_estimators=300, max_depth=6, learning_rate=0.1,\n",
    "#                         use_label_encoder=False, eval_metric='mlogloss', random_state=42)\n",
    "# xgb_cls.fit(X_cls_train, y_cls_train)\n",
    "# y_pred_xgb_cls = xgb_cls.predict(X_cls_test)\n",
    "# print(\"XGBoost Classifier Accuracy:\", round(accuracy_score(y_cls_test, y_pred_xgb_cls), 3))\n",
    "#\n",
    "# # -----------------------------\n",
    "# # 8️⃣ Regression: Random Forest\n",
    "# # -----------------------------\n",
    "# rf_reg = RandomForestRegressor(n_estimators=300, max_depth=12, random_state=42)\n",
    "# rf_reg.fit(X_reg_train, y_reg_train)\n",
    "# y_pred_rf_reg = rf_reg.predict(X_reg_test)\n",
    "# print(\"\\nRandom Forest Regressor for Amount\")\n",
    "# print(\"R² Score:\", round(r2_score(y_reg_test, y_pred_rf_reg), 3))\n",
    "# print(\"MAE:\", round(mean_absolute_error(y_reg_test, y_pred_rf_reg), 3))\n"
   ],
   "outputs": [
    {
     "name": "stdout",
     "output_type": "stream",
     "text": [
      "Random Forest Classifier Accuracy: 0.954\n"
     ]
    },
    {
     "name": "stderr",
     "output_type": "stream",
     "text": [
      "/Library/Frameworks/Python.framework/Versions/3.12/lib/python3.12/site-packages/xgboost/training.py:183: UserWarning: [11:03:47] WARNING: /Users/runner/work/xgboost/xgboost/src/learner.cc:738: \n",
      "Parameters: { \"use_label_encoder\" } are not used.\n",
      "\n",
      "  bst.update(dtrain, iteration=i, fobj=obj)\n"
     ]
    },
    {
     "name": "stdout",
     "output_type": "stream",
     "text": [
      "XGBoost Classifier Accuracy: 0.953\n",
      "\n",
      "Random Forest Regressor for Amount\n",
      "R² Score: 0.996\n",
      "MAE: 11.634\n"
     ]
    }
   ],
   "execution_count": 3
  },
  {
   "metadata": {
    "ExecuteTime": {
     "end_time": "2025-10-03T06:50:42.346924Z",
     "start_time": "2025-10-03T06:50:12.552393Z"
    }
   },
   "cell_type": "code",
   "source": [
    "# -----------------------------\n",
    "# 1️⃣ Imports\n",
    "# -----------------------------\n",
    "import pandas as pd\n",
    "import numpy as np\n",
    "from sklearn.model_selection import train_test_split\n",
    "from sklearn.ensemble import RandomForestClassifier, RandomForestRegressor\n",
    "from xgboost import XGBClassifier\n",
    "from sklearn.metrics import accuracy_score, r2_score, mean_absolute_error\n",
    "\n",
    "# -----------------------------\n",
    "# 2️⃣ Load dataset\n",
    "# -----------------------------\n",
    "df = pd.read_csv('data.csv')\n",
    "\n",
    "# -----------------------------\n",
    "# 3️⃣ Encode categorical features\n",
    "# -----------------------------\n",
    "for col in ['Gender', 'Income', 'Customer_Segment', 'Product_Category', 'Shipping_Method', 'Payment_Method']:\n",
    "    df[col] = df[col].astype('category').cat.codes\n",
    "\n",
    "# -----------------------------\n",
    "# 4️⃣ Features and targets\n",
    "# -----------------------------\n",
    "features = ['Age','Gender','Income','Total_Purchases','Total_Amount',\n",
    "            'Product_Category','Shipping_Method','Payment_Method','Ratings']\n",
    "\n",
    "# Classification: Customer_Segment\n",
    "X_cls = df[features]\n",
    "y_cls = df['Customer_Segment']\n",
    "\n",
    "# Regression: Amount\n",
    "X_reg = df[features]\n",
    "y_reg = df['Amount']\n",
    "\n",
    "# Train/test split\n",
    "X_cls_train, X_cls_test, y_cls_train, y_cls_test = train_test_split(X_cls, y_cls, test_size=0.2, random_state=42)\n",
    "X_reg_train, X_reg_test, y_reg_train, y_reg_test = train_test_split(X_reg, y_reg, test_size=0.2, random_state=42)\n",
    "\n",
    "# -----------------------------\n",
    "# 5️⃣ Classification: Random Forest\n",
    "# -----------------------------\n",
    "rf_cls = RandomForestClassifier(n_estimators=300, max_depth=12, random_state=42)\n",
    "rf_cls.fit(X_cls_train, y_cls_train)\n",
    "y_pred_rf_cls = rf_cls.predict(X_cls_test)\n",
    "print(\"Random Forest Classifier Accuracy:\", round(accuracy_score(y_cls_test, y_pred_rf_cls), 3))\n",
    "\n",
    "# -----------------------------\n",
    "# 6️⃣ Classification: XGBoost\n",
    "# -----------------------------\n",
    "xgb_cls = XGBClassifier(n_estimators=300, max_depth=6, learning_rate=0.1,\n",
    "                        use_label_encoder=False, eval_metric='mlogloss', random_state=42)\n",
    "xgb_cls.fit(X_cls_train, y_cls_train)\n",
    "y_pred_xgb_cls = xgb_cls.predict(X_cls_test)\n",
    "print(\"XGBoost Classifier Accuracy:\", round(accuracy_score(y_cls_test, y_pred_xgb_cls), 3))\n",
    "\n",
    "# -----------------------------\n",
    "# 7️⃣ Regression: Random Forest\n",
    "# -----------------------------\n",
    "rf_reg = RandomForestRegressor(n_estimators=300, max_depth=12, random_state=42)\n",
    "rf_reg.fit(X_reg_train, y_reg_train)\n",
    "y_pred_rf_reg = rf_reg.predict(X_reg_test)\n",
    "print(\"\\nRandom Forest Regressor for Amount\")\n",
    "print(\"R² Score:\", round(r2_score(y_reg_test, y_pred_rf_reg), 3))\n",
    "print(\"MAE:\", round(mean_absolute_error(y_reg_test, y_pred_rf_reg), 3))\n"
   ],
   "id": "58b4b711a009c235",
   "outputs": [
    {
     "name": "stdout",
     "output_type": "stream",
     "text": [
      "Random Forest Classifier Accuracy: 0.967\n"
     ]
    },
    {
     "name": "stderr",
     "output_type": "stream",
     "text": [
      "/Library/Frameworks/Python.framework/Versions/3.12/lib/python3.12/site-packages/xgboost/training.py:183: UserWarning: [12:20:20] WARNING: /Users/runner/work/xgboost/xgboost/src/learner.cc:738: \n",
      "Parameters: { \"use_label_encoder\" } are not used.\n",
      "\n",
      "  bst.update(dtrain, iteration=i, fobj=obj)\n"
     ]
    },
    {
     "name": "stdout",
     "output_type": "stream",
     "text": [
      "XGBoost Classifier Accuracy: 0.966\n",
      "\n",
      "Random Forest Regressor for Amount\n",
      "R² Score: 0.996\n",
      "MAE: 11.36\n"
     ]
    }
   ],
   "execution_count": 4
  }
 ],
 "metadata": {
  "kernelspec": {
   "display_name": "Python 3",
   "language": "python",
   "name": "python3"
  },
  "language_info": {
   "codemirror_mode": {
    "name": "ipython",
    "version": 2
   },
   "file_extension": ".py",
   "mimetype": "text/x-python",
   "name": "python",
   "nbconvert_exporter": "python",
   "pygments_lexer": "ipython2",
   "version": "2.7.6"
  }
 },
 "nbformat": 4,
 "nbformat_minor": 5
}
