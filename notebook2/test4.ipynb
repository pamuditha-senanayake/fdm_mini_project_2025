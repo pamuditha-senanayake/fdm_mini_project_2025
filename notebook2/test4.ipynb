{
 "cells": [
  {
   "cell_type": "code",
   "id": "initial_id",
   "metadata": {
    "collapsed": true,
    "ExecuteTime": {
     "end_time": "2025-10-03T05:40:36.921351Z",
     "start_time": "2025-10-03T05:40:07.714434Z"
    }
   },
   "source": [
    "# # -----------------------------\n",
    "# # 1️⃣ Imports\n",
    "# # -----------------------------\n",
    "# import pandas as pd\n",
    "# import numpy as np\n",
    "# from sklearn.model_selection import train_test_split\n",
    "# from sklearn.ensemble import RandomForestClassifier, RandomForestRegressor\n",
    "# from sklearn.metrics import accuracy_score, r2_score, mean_absolute_error\n",
    "#\n",
    "# # -----------------------------\n",
    "# # 2️⃣ Load dataset\n",
    "# # -----------------------------\n",
    "# df = pd.read_csv('../data/p4rocessed/data.csv')\n",
    "#\n",
    "# # -----------------------------\n",
    "# # 3️⃣ Add slight noise for realism\n",
    "# # -----------------------------\n",
    "# np.random.seed(42)\n",
    "# df['Total_Purchases'] += np.random.randint(-1, 2, size=len(df))\n",
    "# df['Total_Purchases'] = df['Total_Purchases'].clip(lower=1)\n",
    "# df['Total_Amount'] += np.random.normal(0, 5, size=len(df))\n",
    "# df['Total_Amount'] = df['Total_Amount'].clip(lower=1)\n",
    "#\n",
    "# # Encode categorical features\n",
    "# for col in ['Gender','Income','Customer_Segment','Shipping_Method','Payment_Method']:\n",
    "#     df[col] = df[col].astype('category').cat.codes\n",
    "#\n",
    "# # Encode target for classification\n",
    "# df['Product_Category'] = df['Product_Category'].astype('category').cat.codes\n",
    "#\n",
    "# # -----------------------------\n",
    "# # 4️⃣ Features and targets\n",
    "# # -----------------------------\n",
    "# features = ['Age','Gender','Income','Customer_Segment','Total_Purchases','Amount',\n",
    "#             'Shipping_Method','Payment_Method','Ratings']\n",
    "#\n",
    "# # Classification: Product_Category\n",
    "# X_cls = df[features]\n",
    "# y_cls = df['Product_Category']\n",
    "#\n",
    "# # Regression: Total_Amount\n",
    "# X_reg = df[features]\n",
    "# y_reg = df['Total_Amount']\n",
    "#\n",
    "# # Train/test split\n",
    "# X_cls_train, X_cls_test, y_cls_train, y_cls_test = train_test_split(X_cls, y_cls, test_size=0.2, random_state=42)\n",
    "# X_reg_train, X_reg_test, y_reg_train, y_reg_test = train_test_split(X_reg, y_reg, test_size=0.2, random_state=42)\n",
    "#\n",
    "# # -----------------------------\n",
    "# # 5️⃣ Classification: Random Forest\n",
    "# # -----------------------------\n",
    "# rf_cls = RandomForestClassifier(n_estimators=300, max_depth=12, random_state=42)\n",
    "# rf_cls.fit(X_cls_train, y_cls_train)\n",
    "# y_pred_rf_cls = rf_cls.predict(X_cls_test)\n",
    "# print(\"Random Forest Classifier Accuracy (Product_Category):\", round(accuracy_score(y_cls_test, y_pred_rf_cls), 3))\n",
    "#\n",
    "# # -----------------------------\n",
    "# # 6️⃣ Regression: Random Forest\n",
    "# # -----------------------------\n",
    "# rf_reg = RandomForestRegressor(n_estimators=300, max_depth=12, random_state=42)\n",
    "# rf_reg.fit(X_reg_train, y_reg_train)\n",
    "# y_pred_rf_reg = rf_reg.predict(X_reg_test)\n",
    "# print(\"\\nRandom Forest Regressor for Total_Amount\")\n",
    "# print(\"R² Score:\", round(r2_score(y_reg_test, y_pred_rf_reg), 3))\n",
    "# print(\"MAE:\", round(mean_absolute_error(y_reg_test, y_pred_rf_reg), 3))\n"
   ],
   "outputs": [
    {
     "name": "stdout",
     "output_type": "stream",
     "text": [
      "Random Forest Classifier Accuracy (Product_Category): 0.327\n",
      "\n",
      "Random Forest Regressor for Total_Amount\n",
      "R² Score: 0.996\n",
      "MAE: 12.025\n"
     ]
    }
   ],
   "execution_count": 4
  },
  {
   "metadata": {
    "ExecuteTime": {
     "end_time": "2025-10-03T06:51:28.585533Z",
     "start_time": "2025-10-03T06:50:59.363087Z"
    }
   },
   "cell_type": "code",
   "source": [
    "# -----------------------------\n",
    "# 1️⃣ Imports\n",
    "# -----------------------------\n",
    "import pandas as pd\n",
    "import numpy as np\n",
    "from sklearn.model_selection import train_test_split\n",
    "from sklearn.ensemble import RandomForestClassifier, RandomForestRegressor\n",
    "from sklearn.metrics import accuracy_score, r2_score, mean_absolute_error\n",
    "\n",
    "# -----------------------------\n",
    "# 2️⃣ Load dataset\n",
    "# -----------------------------\n",
    "df = pd.read_csv('data.csv')\n",
    "\n",
    "# -----------------------------\n",
    "# 3️⃣ Encode categorical features\n",
    "# -----------------------------\n",
    "for col in ['Gender','Income','Customer_Segment','Shipping_Method','Payment_Method']:\n",
    "    df[col] = df[col].astype('category').cat.codes\n",
    "\n",
    "# Encode target for classification\n",
    "df['Product_Category'] = df['Product_Category'].astype('category').cat.codes\n",
    "\n",
    "# -----------------------------\n",
    "# 4️⃣ Features and targets\n",
    "# -----------------------------\n",
    "features = ['Age','Gender','Income','Customer_Segment','Total_Purchases','Amount',\n",
    "            'Shipping_Method','Payment_Method','Ratings']\n",
    "\n",
    "# Classification: Product_Category\n",
    "X_cls = df[features]\n",
    "y_cls = df['Product_Category']\n",
    "\n",
    "# Regression: Total_Amount\n",
    "X_reg = df[features]\n",
    "y_reg = df['Total_Amount']\n",
    "\n",
    "# Train/test split\n",
    "X_cls_train, X_cls_test, y_cls_train, y_cls_test = train_test_split(X_cls, y_cls, test_size=0.2, random_state=42)\n",
    "X_reg_train, X_reg_test, y_reg_train, y_reg_test = train_test_split(X_reg, y_reg, test_size=0.2, random_state=42)\n",
    "\n",
    "# -----------------------------\n",
    "# 5️⃣ Classification: Random Forest\n",
    "# -----------------------------\n",
    "rf_cls = RandomForestClassifier(n_estimators=300, max_depth=12, random_state=42)\n",
    "rf_cls.fit(X_cls_train, y_cls_train)\n",
    "y_pred_rf_cls = rf_cls.predict(X_cls_test)\n",
    "print(\"Random Forest Classifier Accuracy (Product_Category):\", round(accuracy_score(y_cls_test, y_pred_rf_cls), 3))\n",
    "\n",
    "# -----------------------------\n",
    "# 6️⃣ Regression: Random Forest\n",
    "# -----------------------------\n",
    "rf_reg = RandomForestRegressor(n_estimators=300, max_depth=12, random_state=42)\n",
    "rf_reg.fit(X_reg_train, y_reg_train)\n",
    "y_pred_rf_reg = rf_reg.predict(X_reg_test)\n",
    "print(\"\\nRandom Forest Regressor for Total_Amount\")\n",
    "print(\"R² Score:\", round(r2_score(y_reg_test, y_pred_rf_reg), 3))\n",
    "print(\"MAE:\", round(mean_absolute_error(y_reg_test, y_pred_rf_reg), 3))\n"
   ],
   "id": "2d55eafadb652db7",
   "outputs": [
    {
     "name": "stdout",
     "output_type": "stream",
     "text": [
      "Random Forest Classifier Accuracy (Product_Category): 0.343\n",
      "\n",
      "Random Forest Regressor for Total_Amount\n",
      "R² Score: 0.996\n",
      "MAE: 11.943\n"
     ]
    }
   ],
   "execution_count": 5
  }
 ],
 "metadata": {
  "kernelspec": {
   "display_name": "Python 3",
   "language": "python",
   "name": "python3"
  },
  "language_info": {
   "codemirror_mode": {
    "name": "ipython",
    "version": 2
   },
   "file_extension": ".py",
   "mimetype": "text/x-python",
   "name": "python",
   "nbconvert_exporter": "python",
   "pygments_lexer": "ipython2",
   "version": "2.7.6"
  }
 },
 "nbformat": 4,
 "nbformat_minor": 5
}
