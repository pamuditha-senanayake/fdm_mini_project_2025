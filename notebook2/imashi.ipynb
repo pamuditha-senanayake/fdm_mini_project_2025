{
 "cells": [
  {
   "metadata": {
    "ExecuteTime": {
     "end_time": "2025-10-03T10:02:55.420334Z",
     "start_time": "2025-10-03T10:02:43.460307Z"
    }
   },
   "cell_type": "code",
   "source": [
    "import pandas as pd\n",
    "from statsmodels.tsa.statespace.sarimax import SARIMAX\n",
    "import gradio as gr\n",
    "\n",
    "# Load and preprocess data\n",
    "df = pd.read_csv(\"data.csv\")\n",
    "df['Date'] = pd.to_datetime(df['Date'])\n",
    "daily_sales = df.groupby('Date')['Total_Amount'].sum()\n",
    "\n",
    "# Fit SARIMA model once\n",
    "model = SARIMAX(daily_sales, order=(1,1,1), seasonal_order=(1,1,1,7))\n",
    "fit_model = model.fit(disp=False)\n",
    "\n",
    "# Forecast function (textual output)\n",
    "def forecast_sales(steps=30):\n",
    "    steps = int(steps)\n",
    "    pred = fit_model.get_forecast(steps=steps)\n",
    "    pred_values = pred.predicted_mean\n",
    "\n",
    "    # Generate future dates\n",
    "    last_date = daily_sales.index[-1]\n",
    "    future_dates = pd.date_range(start=last_date + pd.Timedelta(days=1), periods=steps)\n",
    "\n",
    "    # Prepare clean textual output\n",
    "    forecast_list = [f\"{date.date()}: {round(value, 2)}\" for date, value in zip(future_dates, pred_values)]\n",
    "    output_text = \"Next {} days forecast:\\n\".format(steps) + \"\\n\".join(forecast_list)\n",
    "    return output_text\n",
    "\n",
    "# Gradio interface\n",
    "demo = gr.Interface(\n",
    "    fn=forecast_sales,\n",
    "    inputs=gr.Number(label=\"Forecast Steps\", value=30),\n",
    "    outputs=gr.Textbox(label=\"Predicted Sales\"),\n",
    "    live=False\n",
    ")\n",
    "\n",
    "# Launch with explicit server config to avoid loading issues\n",
    "demo.launch(server_name=\"0.0.0.0\", server_port=7861, share=True)\n"
   ],
   "id": "12f11bd3eb9acd03",
   "outputs": [
    {
     "name": "stderr",
     "output_type": "stream",
     "text": [
      "/Library/Frameworks/Python.framework/Versions/3.12/lib/python3.12/site-packages/tqdm/auto.py:21: TqdmWarning: IProgress not found. Please update jupyter and ipywidgets. See https://ipywidgets.readthedocs.io/en/stable/user_install.html\n",
      "  from .autonotebook import tqdm as notebook_tqdm\n",
      "/Library/Frameworks/Python.framework/Versions/3.12/lib/python3.12/site-packages/statsmodels/tsa/base/tsa_model.py:473: ValueWarning: No frequency information was provided, so inferred frequency D will be used.\n",
      "  self._init_dates(dates, freq)\n",
      "/Library/Frameworks/Python.framework/Versions/3.12/lib/python3.12/site-packages/statsmodels/tsa/base/tsa_model.py:473: ValueWarning: No frequency information was provided, so inferred frequency D will be used.\n",
      "  self._init_dates(dates, freq)\n"
     ]
    },
    {
     "name": "stdout",
     "output_type": "stream",
     "text": [
      "* Running on local URL:  http://0.0.0.0:7861\n",
      "* Running on public URL: https://d03847dbc28c3a5e4d.gradio.live\n",
      "\n",
      "This share link expires in 1 week. For free permanent hosting and GPU upgrades, run `gradio deploy` from the terminal in the working directory to deploy to Hugging Face Spaces (https://huggingface.co/spaces)\n"
     ]
    },
    {
     "data": {
      "text/plain": [
       "<IPython.core.display.HTML object>"
      ],
      "text/html": [
       "<div><iframe src=\"https://d03847dbc28c3a5e4d.gradio.live\" width=\"100%\" height=\"500\" allow=\"autoplay; camera; microphone; clipboard-read; clipboard-write;\" frameborder=\"0\" allowfullscreen></iframe></div>"
      ]
     },
     "metadata": {},
     "output_type": "display_data",
     "jetTransient": {
      "display_id": null
     }
    },
    {
     "data": {
      "text/plain": []
     },
     "execution_count": 1,
     "metadata": {},
     "output_type": "execute_result"
    }
   ],
   "execution_count": 1
  },
  {
   "metadata": {
    "ExecuteTime": {
     "end_time": "2025-10-03T10:01:56.388383Z",
     "start_time": "2025-10-03T10:01:47.635525Z"
    }
   },
   "cell_type": "code",
   "source": [
    "# import pandas as pd\n",
    "# from statsmodels.tsa.statespace.sarimax import SARIMAX\n",
    "# import gradio as gr\n",
    "#\n",
    "# # Load and preprocess data\n",
    "# df = pd.read_csv(\"data.csv\")\n",
    "# df['Date'] = pd.to_datetime(df['Date'])\n",
    "#\n",
    "# # Aggregate monthly sales\n",
    "# monthly_sales = df.groupby(pd.Grouper(key='Date', freq='M'))['Total_Amount'].sum()\n",
    "#\n",
    "# # Fit SARIMA model (monthly seasonality = 12)\n",
    "# model = SARIMAX(monthly_sales, order=(1,1,1), seasonal_order=(1,1,1,12))\n",
    "# fit_model = model.fit(disp=False)\n",
    "#\n",
    "# # Forecast function for months\n",
    "# def forecast_sales(steps=12):\n",
    "#     steps = int(steps)\n",
    "#     pred = fit_model.get_forecast(steps=steps)\n",
    "#     pred_values = pred.predicted_mean\n",
    "#\n",
    "#     # Generate future month dates\n",
    "#     last_date = monthly_sales.index[-1]\n",
    "#     future_dates = pd.date_range(start=last_date + pd.offsets.MonthEnd(1), periods=steps, freq='M')\n",
    "#\n",
    "#     # Prepare textual output\n",
    "#     forecast_list = [f\"{date.strftime('%Y-%m')}: {round(value, 2)}\" for date, value in zip(future_dates, pred_values)]\n",
    "#     output_text = f\"Next {steps} months forecast:\\n\" + \"\\n\".join(forecast_list)\n",
    "#     return output_text\n",
    "#\n",
    "# # Gradio interface\n",
    "# demo = gr.Interface(\n",
    "#     fn=forecast_sales,\n",
    "#     inputs=gr.Number(label=\"Forecast Months\", value=12),\n",
    "#     outputs=gr.Textbox(label=\"Predicted Monthly Sales\"),\n",
    "#     live=False\n",
    "# )\n",
    "#\n",
    "# demo.launch(server_name=\"0.0.0.0\", server_port=7861, share=True)\n"
   ],
   "id": "37975a5e540fc7c2",
   "outputs": [
    {
     "name": "stderr",
     "output_type": "stream",
     "text": [
      "/Library/Frameworks/Python.framework/Versions/3.12/lib/python3.12/site-packages/tqdm/auto.py:21: TqdmWarning: IProgress not found. Please update jupyter and ipywidgets. See https://ipywidgets.readthedocs.io/en/stable/user_install.html\n",
      "  from .autonotebook import tqdm as notebook_tqdm\n",
      "/var/folders/vf/rbbd31d52x71bpbg3sn62p3r0000gn/T/ipykernel_92481/1857660267.py:10: FutureWarning: 'M' is deprecated and will be removed in a future version, please use 'ME' instead.\n",
      "  monthly_sales = df.groupby(pd.Grouper(key='Date', freq='M'))['Total_Amount'].sum()\n",
      "/Library/Frameworks/Python.framework/Versions/3.12/lib/python3.12/site-packages/statsmodels/tsa/statespace/sarimax.py:866: UserWarning: Too few observations to estimate starting parameters for seasonal ARMA. All parameters except for variances will be set to zeros.\n",
      "  warn('Too few observations to estimate starting parameters%s.'\n"
     ]
    },
    {
     "name": "stdout",
     "output_type": "stream",
     "text": [
      "* Running on local URL:  http://0.0.0.0:7861\n",
      "* Running on public URL: https://5c17d3405240dd5f52.gradio.live\n",
      "\n",
      "This share link expires in 1 week. For free permanent hosting and GPU upgrades, run `gradio deploy` from the terminal in the working directory to deploy to Hugging Face Spaces (https://huggingface.co/spaces)\n"
     ]
    },
    {
     "data": {
      "text/plain": [
       "<IPython.core.display.HTML object>"
      ],
      "text/html": [
       "<div><iframe src=\"https://5c17d3405240dd5f52.gradio.live\" width=\"100%\" height=\"500\" allow=\"autoplay; camera; microphone; clipboard-read; clipboard-write;\" frameborder=\"0\" allowfullscreen></iframe></div>"
      ]
     },
     "metadata": {},
     "output_type": "display_data",
     "jetTransient": {
      "display_id": null
     }
    },
    {
     "data": {
      "text/plain": []
     },
     "execution_count": 1,
     "metadata": {},
     "output_type": "execute_result"
    }
   ],
   "execution_count": 1
  },
  {
   "metadata": {},
   "cell_type": "code",
   "outputs": [],
   "execution_count": null,
   "source": "",
   "id": "fe2258ea7e3231fb"
  }
 ],
 "metadata": {
  "kernelspec": {
   "display_name": "Python 3 (ipykernel)",
   "language": "python",
   "name": "python3"
  },
  "language_info": {
   "codemirror_mode": {
    "name": "ipython",
    "version": 2
   },
   "file_extension": ".py",
   "mimetype": "text/x-python",
   "name": "python",
   "nbconvert_exporter": "python",
   "pygments_lexer": "ipython2",
   "version": "2.7.6"
  }
 },
 "nbformat": 4,
 "nbformat_minor": 5
}
