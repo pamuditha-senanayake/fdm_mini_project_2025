{
 "cells": [
  {
   "cell_type": "code",
   "id": "initial_id",
   "metadata": {
    "collapsed": true,
    "ExecuteTime": {
     "end_time": "2025-10-03T10:47:07.010812Z",
     "start_time": "2025-10-03T10:46:32.749589Z"
    }
   },
   "source": [
    "import pandas as pd\n",
    "import numpy as np\n",
    "from statsmodels.tsa.statespace.sarimax import SARIMAX\n",
    "from sklearn.metrics import mean_absolute_error, mean_squared_error\n",
    "import gradio as gr\n",
    "\n",
    "# Load data\n",
    "df = pd.read_csv(\"data.csv\")\n",
    "df['Date'] = pd.to_datetime(df['Date'])\n",
    "\n",
    "# Forecast function\n",
    "def forecast_sales(category, steps=30):\n",
    "    steps = int(steps)\n",
    "    df_cat = df[df['Product_Category'] == category]\n",
    "    daily_sales = df_cat.groupby('Date')['Total_Amount'].sum()\n",
    "    daily_sales.index = pd.DatetimeIndex(daily_sales.index, freq='D')\n",
    "\n",
    "    # Train/test split\n",
    "    train = daily_sales[:-steps]\n",
    "    test = daily_sales[-steps:]\n",
    "\n",
    "    # Fit SARIMA\n",
    "    model = SARIMAX(train, order=(1,1,1), seasonal_order=(1,1,1,7))\n",
    "    fit_model = model.fit(disp=False)\n",
    "\n",
    "    # Forecast\n",
    "    pred = fit_model.get_forecast(steps=steps)\n",
    "    pred_values = pred.predicted_mean\n",
    "\n",
    "    # Accuracy metrics\n",
    "    mae = mean_absolute_error(test, pred_values)\n",
    "    rmse = np.sqrt(mean_squared_error(test, pred_values))\n",
    "    accuracy_pct = (1 - mae / np.mean(test)) * 100\n",
    "\n",
    "    # Trend insight\n",
    "    trend = np.mean(pred_values) - np.mean(train[-7:])\n",
    "    if trend > 0:\n",
    "        trend_text = \"upward trend. Stock may need to be increased.\"\n",
    "    elif trend < 0:\n",
    "        trend_text = \"downward trend. Consider promotions to avoid overstock.\"\n",
    "    else:\n",
    "        trend_text = \"stable. Maintain current stock levels.\"\n",
    "\n",
    "    # Prepare output\n",
    "    forecast_list = [f\"{date.date()}: {round(value,2)}\" for date, value in zip(test.index, pred_values)]\n",
    "    output_text = f\"Forecast for {category} ({steps} days):\\n\" + \\\n",
    "                  \"\\n\".join(forecast_list) + \\\n",
    "                  f\"\\n\\nTrend Insight: {trend_text}\" + \\\n",
    "                  f\"\\nMAE: {mae:.2f}, RMSE: {rmse:.2f}, Accuracy: {accuracy_pct:.2f}%\"\n",
    "\n",
    "    return output_text\n",
    "\n",
    "# Gradio interface\n",
    "demo = gr.Interface(\n",
    "    fn=forecast_sales,\n",
    "    inputs=[\n",
    "        gr.Dropdown(label=\"Product Category\", choices=df['Product_Category'].unique().tolist(), value='Electronics'),\n",
    "        gr.Number(label=\"Forecast Days\", value=30)\n",
    "    ],\n",
    "    outputs=gr.Textbox(label=\"Predicted Sales\"),\n",
    "    title=\"📈 Sales Forecast Dashboard\",\n",
    "    description=\"Select a product category and forecast horizon to see daily predicted sales, trend insight, and accuracy metrics.\",\n",
    "    theme=\"soft\"\n",
    ")\n",
    "\n",
    "demo.launch(share=True)\n"
   ],
   "outputs": [
    {
     "name": "stderr",
     "output_type": "stream",
     "text": [
      "/Library/Frameworks/Python.framework/Versions/3.12/lib/python3.12/site-packages/tqdm/auto.py:21: TqdmWarning: IProgress not found. Please update jupyter and ipywidgets. See https://ipywidgets.readthedocs.io/en/stable/user_install.html\n",
      "  from .autonotebook import tqdm as notebook_tqdm\n"
     ]
    },
    {
     "name": "stdout",
     "output_type": "stream",
     "text": [
      "* Running on local URL:  http://127.0.0.1:7861\n",
      "\n",
      "Could not create share link. Please check your internet connection or our status page: https://status.gradio.app.\n"
     ]
    },
    {
     "name": "stderr",
     "output_type": "stream",
     "text": [
      "\n"
     ]
    },
    {
     "data": {
      "text/plain": [
       "<IPython.core.display.HTML object>"
      ],
      "text/html": [
       "<div><iframe src=\"http://127.0.0.1:7861/\" width=\"100%\" height=\"500\" allow=\"autoplay; camera; microphone; clipboard-read; clipboard-write;\" frameborder=\"0\" allowfullscreen></iframe></div>"
      ]
     },
     "metadata": {},
     "output_type": "display_data",
     "jetTransient": {
      "display_id": null
     }
    },
    {
     "data": {
      "text/plain": []
     },
     "execution_count": 1,
     "metadata": {},
     "output_type": "execute_result"
    }
   ],
   "execution_count": 1
  }
 ],
 "metadata": {
  "kernelspec": {
   "display_name": "Python 3",
   "language": "python",
   "name": "python3"
  },
  "language_info": {
   "codemirror_mode": {
    "name": "ipython",
    "version": 2
   },
   "file_extension": ".py",
   "mimetype": "text/x-python",
   "name": "python",
   "nbconvert_exporter": "python",
   "pygments_lexer": "ipython2",
   "version": "2.7.6"
  }
 },
 "nbformat": 4,
 "nbformat_minor": 5
}
