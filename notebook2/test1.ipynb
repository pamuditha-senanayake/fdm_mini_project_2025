{
 "cells": [
  {
   "metadata": {
    "jupyter": {
     "is_executing": true
    }
   },
   "cell_type": "code",
   "source": [
    "# -----------------------------\n",
    "# Full Correlation Heatmap\n",
    "# -----------------------------\n",
    "import pandas as pd\n",
    "import numpy as np\n",
    "import seaborn as sns\n",
    "import matplotlib.pyplot as plt\n",
    "\n",
    "# Read dataset\n",
    "df = pd.read_csv('../data/p3rocessed/data.csv')\n",
    "\n",
    "# Encode categorical features to numeric for correlation\n",
    "df_encoded = df.copy()\n",
    "for col in ['Gender', 'Income', 'Customer_Segment', 'Product_Category', 'Shipping_Method', 'Payment_Method']:\n",
    "    df_encoded[col] = df_encoded[col].astype('category').cat.codes\n",
    "\n",
    "# Select all numeric columns\n",
    "numeric_cols = df_encoded.select_dtypes(include=np.number).columns\n",
    "corr = df_encoded[numeric_cols].corr()\n",
    "\n",
    "# Plot full heatmap\n",
    "plt.figure(figsize=(12,10))\n",
    "sns.heatmap(corr, annot=True, fmt=\".2f\", cmap='coolwarm', linewidths=0.5)\n",
    "plt.title(\"Full Feature Correlation Heatmap\")\n",
    "plt.show()\n"
   ],
   "id": "2ddc48050aa35fd2",
   "outputs": [],
   "execution_count": null
  }
 ],
 "metadata": {
  "kernelspec": {
   "display_name": "Python 3",
   "language": "python",
   "name": "python3"
  },
  "language_info": {
   "codemirror_mode": {
    "name": "ipython",
    "version": 2
   },
   "file_extension": ".py",
   "mimetype": "text/x-python",
   "name": "python",
   "nbconvert_exporter": "python",
   "pygments_lexer": "ipython2",
   "version": "2.7.6"
  }
 },
 "nbformat": 4,
 "nbformat_minor": 5
}
