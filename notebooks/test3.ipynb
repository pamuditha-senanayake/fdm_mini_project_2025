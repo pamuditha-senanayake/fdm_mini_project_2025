{
 "cells": [
  {
   "metadata": {
    "ExecuteTime": {
     "end_time": "2025-10-02T17:30:40.555827Z",
     "start_time": "2025-10-02T17:30:39.099523Z"
    }
   },
   "cell_type": "code",
   "source": [
    "#chunk 1\n",
    "import pandas as pd\n",
    "\n",
    "df = pd.read_csv(\"../data/raw/data.csv\")\n",
    "df = df.drop_duplicates()\n",
    "df = df.dropna(subset=[\"Customer_ID\", \"Amount\", \"Product_Category\"])\n",
    "df = df.fillna({\"Income\": \"Unknown\", \"Feedback\": \"No Feedback\"})\n",
    "df['Date'] = pd.to_datetime(df['Date'])\n"
   ],
   "id": "8912e82f0f43f972",
   "outputs": [],
   "execution_count": 10
  },
  {
   "metadata": {
    "ExecuteTime": {
     "end_time": "2025-10-02T17:30:41.204156Z",
     "start_time": "2025-10-02T17:30:41.106060Z"
    }
   },
   "cell_type": "code",
   "source": [
    "#chunk 2\n",
    "from sklearn.preprocessing import LabelEncoder\n",
    "\n",
    "cat_cols = [\"Gender\", \"Income\", \"Customer_Segment\", \"Product_Category\"]\n",
    "for col in cat_cols:\n",
    "    df[col] = LabelEncoder().fit_transform(df[col].astype(str))\n"
   ],
   "id": "b595e8a355050173",
   "outputs": [],
   "execution_count": 11
  },
  {
   "metadata": {
    "ExecuteTime": {
     "end_time": "2025-10-02T17:30:42.715675Z",
     "start_time": "2025-10-02T17:30:42.596121Z"
    }
   },
   "cell_type": "code",
   "source": [
    "#chunk 3\n",
    "from prophet import Prophet\n",
    "\n",
    "df['YearMonth'] = df['Date'].dt.to_period('M')\n",
    "sales = df.groupby(['YearMonth', 'Product_Category'])['Amount'].sum().reset_index()\n",
    "sales['YearMonth'] = sales['YearMonth'].dt.to_timestamp()\n",
    "\n",
    "cat_sales = sales[sales['Product_Category'] == 2][['YearMonth', 'Amount']].copy()  # choose a popular category\n",
    "cat_sales.rename(columns={'YearMonth':'ds', 'Amount':'y'}, inplace=True)\n",
    "model = Prophet()\n",
    "\n",
    "model.fit(cat_sales)\n",
    "future = model.make_future_dataframe(periods=3, freq='M')\n",
    "forecast = model.predict(future)\n",
    "print(forecast[['ds', 'yhat']].tail())\n"
   ],
   "id": "7efc7367883e12d7",
   "outputs": [
    {
     "name": "stderr",
     "output_type": "stream",
     "text": [
      "23:00:42 - cmdstanpy - INFO - Chain [1] start processing\n",
      "23:00:42 - cmdstanpy - INFO - Chain [1] done processing\n"
     ]
    },
    {
     "name": "stdout",
     "output_type": "stream",
     "text": [
      "           ds          yhat\n",
      "10 2024-01-01  1.493495e+06\n",
      "11 2024-02-01  1.489739e+06\n",
      "12 2024-02-29  1.486347e+06\n",
      "13 2024-03-31  1.482591e+06\n",
      "14 2024-04-30  1.478956e+06\n"
     ]
    },
    {
     "name": "stderr",
     "output_type": "stream",
     "text": [
      "/Library/Frameworks/Python.framework/Versions/3.12/lib/python3.12/site-packages/prophet/forecaster.py:1872: FutureWarning: 'M' is deprecated and will be removed in a future version, please use 'ME' instead.\n",
      "  dates = pd.date_range(\n"
     ]
    }
   ],
   "execution_count": 12
  },
  {
   "metadata": {
    "ExecuteTime": {
     "end_time": "2025-10-02T17:31:58.592559Z",
     "start_time": "2025-10-02T17:31:58.525151Z"
    }
   },
   "cell_type": "code",
   "source": [
    "from sklearn.metrics import accuracy_score, classification_report\n",
    "\n",
    "y_pred = models[1].predict(X_test)\n",
    "\n",
    "print(\"Test Accuracy:\", accuracy_score(y_test, y_pred))\n",
    "print(\"\\nClassification Report:\\n\", classification_report(y_test, y_pred))\n"
   ],
   "id": "5c2f547bb55606c2",
   "outputs": [
    {
     "ename": "NameError",
     "evalue": "name 'models' is not defined",
     "output_type": "error",
     "traceback": [
      "\u001B[31m---------------------------------------------------------------------------\u001B[39m",
      "\u001B[31mNameError\u001B[39m                                 Traceback (most recent call last)",
      "\u001B[36mCell\u001B[39m\u001B[36m \u001B[39m\u001B[32mIn[14]\u001B[39m\u001B[32m, line 3\u001B[39m\n\u001B[32m      1\u001B[39m \u001B[38;5;28;01mfrom\u001B[39;00m\u001B[38;5;250m \u001B[39m\u001B[34;01msklearn\u001B[39;00m\u001B[34;01m.\u001B[39;00m\u001B[34;01mmetrics\u001B[39;00m\u001B[38;5;250m \u001B[39m\u001B[38;5;28;01mimport\u001B[39;00m accuracy_score, classification_report\n\u001B[32m----> \u001B[39m\u001B[32m3\u001B[39m y_pred = \u001B[43mmodels\u001B[49m[\u001B[32m1\u001B[39m].predict(X_test)\n\u001B[32m      5\u001B[39m \u001B[38;5;28mprint\u001B[39m(\u001B[33m\"\u001B[39m\u001B[33mTest Accuracy:\u001B[39m\u001B[33m\"\u001B[39m, accuracy_score(y_test, y_pred))\n\u001B[32m      6\u001B[39m \u001B[38;5;28mprint\u001B[39m(\u001B[33m\"\u001B[39m\u001B[38;5;130;01m\\n\u001B[39;00m\u001B[33mClassification Report:\u001B[39m\u001B[38;5;130;01m\\n\u001B[39;00m\u001B[33m\"\u001B[39m, classification_report(y_test, y_pred))\n",
      "\u001B[31mNameError\u001B[39m: name 'models' is not defined"
     ]
    }
   ],
   "execution_count": 14
  },
  {
   "metadata": {
    "ExecuteTime": {
     "end_time": "2025-10-02T17:33:19.192636Z",
     "start_time": "2025-10-02T17:32:44.154199Z"
    }
   },
   "cell_type": "code",
   "source": [
    "from sklearn.ensemble import RandomForestClassifier\n",
    "from sklearn.model_selection import train_test_split\n",
    "from sklearn.impute import SimpleImputer\n",
    "from sklearn.preprocessing import LabelEncoder\n",
    "from sklearn.metrics import accuracy_score, classification_report\n",
    "import pandas as pd\n",
    "\n",
    "df = pd.read_csv(\"../data/raw/data.csv\")\n",
    "df = df.drop_duplicates()\n",
    "df = df.dropna(subset=[\"Customer_ID\", \"Amount\", \"Product_Category\"])\n",
    "df = df.fillna({\"Income\": \"Unknown\", \"Feedback\": \"No Feedback\"})\n",
    "df['Date'] = pd.to_datetime(df['Date'])\n",
    "\n",
    "cat_cols = [\"Gender\", \"Income\", \"Customer_Segment\", \"Product_Category\"]\n",
    "for col in cat_cols:\n",
    "    df[col] = LabelEncoder().fit_transform(df[col].astype(str))\n",
    "\n",
    "X = df[[\"Age\", \"Gender\", \"Income\", \"Amount\", \"Total_Purchases\"]]\n",
    "y = df[\"Customer_Segment\"]\n",
    "\n",
    "num_cols = [\"Age\", \"Amount\", \"Total_Purchases\"]\n",
    "X[num_cols] = SimpleImputer(strategy=\"median\").fit_transform(X[num_cols])\n",
    "\n",
    "X_train, X_test, y_train, y_test = train_test_split(X, y, test_size=0.2, random_state=42, stratify=y)\n",
    "\n",
    "rf_model = RandomForestClassifier(n_estimators=100, random_state=42)\n",
    "rf_model.fit(X_train, y_train)\n",
    "\n",
    "y_pred = rf_model.predict(X_test)\n",
    "print(\"Test Accuracy:\", accuracy_score(y_test, y_pred))\n",
    "print(\"\\nClassification Report:\\n\", classification_report(y_test, y_pred))\n"
   ],
   "id": "33ba0aa821a7bb89",
   "outputs": [
    {
     "name": "stderr",
     "output_type": "stream",
     "text": [
      "/var/folders/vf/rbbd31d52x71bpbg3sn62p3r0000gn/T/ipykernel_51123/402887826.py:22: SettingWithCopyWarning: \n",
      "A value is trying to be set on a copy of a slice from a DataFrame.\n",
      "Try using .loc[row_indexer,col_indexer] = value instead\n",
      "\n",
      "See the caveats in the documentation: https://pandas.pydata.org/pandas-docs/stable/user_guide/indexing.html#returning-a-view-versus-a-copy\n",
      "  X[num_cols] = SimpleImputer(strategy=\"median\").fit_transform(X[num_cols])\n"
     ]
    },
    {
     "name": "stdout",
     "output_type": "stream",
     "text": [
      "Test Accuracy: 0.4665515179698399\n",
      "\n",
      "Classification Report:\n",
      "               precision    recall  f1-score   support\n",
      "\n",
      "           0       0.39      0.39      0.39     18180\n",
      "           1       0.28      0.28      0.28     12834\n",
      "           2       0.59      0.60      0.59     29155\n",
      "           3       0.00      0.00      0.00        43\n",
      "\n",
      "    accuracy                           0.47     60212\n",
      "   macro avg       0.32      0.32      0.32     60212\n",
      "weighted avg       0.47      0.47      0.47     60212\n",
      "\n"
     ]
    }
   ],
   "execution_count": 15
  }
 ],
 "metadata": {
  "kernelspec": {
   "display_name": "Python 3",
   "language": "python",
   "name": "python3"
  },
  "language_info": {
   "codemirror_mode": {
    "name": "ipython",
    "version": 2
   },
   "file_extension": ".py",
   "mimetype": "text/x-python",
   "name": "python",
   "nbconvert_exporter": "python",
   "pygments_lexer": "ipython2",
   "version": "2.7.6"
  }
 },
 "nbformat": 4,
 "nbformat_minor": 5
}
