{
 "cells": [
  {
   "cell_type": "code",
   "id": "initial_id",
   "metadata": {
    "collapsed": true,
    "ExecuteTime": {
     "end_time": "2025-10-02T16:56:30.846573Z",
     "start_time": "2025-10-02T16:56:29.423058Z"
    }
   },
   "source": [
    "import pandas as pd\n",
    "\n",
    "df = pd.read_csv(\"../data/raw/data.csv\")\n",
    "df = df.drop_duplicates()\n",
    "df = df.dropna(subset=[\"Customer_ID\", \"Amount\", \"Product_Category\"])\n",
    "df = df.fillna({\"Income\": \"Unknown\", \"Feedback\": \"No Feedback\"})\n",
    "df['Date'] = pd.to_datetime(df['Date'])\n"
   ],
   "outputs": [],
   "execution_count": 11
  },
  {
   "metadata": {
    "ExecuteTime": {
     "end_time": "2025-10-02T16:56:36.550434Z",
     "start_time": "2025-10-02T16:56:36.224474Z"
    }
   },
   "cell_type": "code",
   "source": [
    "from sklearn.preprocessing import LabelEncoder\n",
    "\n",
    "cat_cols = [\"Gender\", \"Income\", \"Customer_Segment\", \"Product_Category\"]\n",
    "for col in cat_cols:\n",
    "    df[col] = LabelEncoder().fit_transform(df[col].astype(str))\n"
   ],
   "id": "f5576a006f74c715",
   "outputs": [],
   "execution_count": 12
  },
  {
   "metadata": {
    "ExecuteTime": {
     "end_time": "2025-10-02T16:56:44.501289Z",
     "start_time": "2025-10-02T16:56:43.764035Z"
    }
   },
   "cell_type": "code",
   "source": [
    "from prophet import Prophet\n",
    "\n",
    "df['YearMonth'] = df['Date'].dt.to_period('M')\n",
    "sales = df.groupby(['YearMonth', 'Product_Category'])['Amount'].sum().reset_index()\n",
    "sales['YearMonth'] = sales['YearMonth'].dt.to_timestamp()\n",
    "cat_sales = sales[sales['Product_Category'] == 2][['YearMonth', 'Amount']]  # choose a popular category\n",
    "model = Prophet()\n",
    "\n",
    "model.fit(cat_sales)\n",
    "future = model.make_future_dataframe(periods=3, freq='M')\n",
    "forecast = model.predict(future)\n",
    "print(forecast[['ds', 'yhat']].tail())\n"
   ],
   "id": "5ce49df66209dbb9",
   "outputs": [
    {
     "name": "stderr",
     "output_type": "stream",
     "text": [
      "22:26:43 - cmdstanpy - INFO - Chain [1] start processing\n",
      "22:26:44 - cmdstanpy - INFO - Chain [1] done processing\n"
     ]
    },
    {
     "name": "stdout",
     "output_type": "stream",
     "text": [
      "           ds          yhat\n",
      "10 2024-01-01  1.493495e+06\n",
      "11 2024-02-01  1.489739e+06\n",
      "12 2024-02-29  1.486347e+06\n",
      "13 2024-03-31  1.482591e+06\n",
      "14 2024-04-30  1.478956e+06\n"
     ]
    },
    {
     "name": "stderr",
     "output_type": "stream",
     "text": [
      "/Library/Frameworks/Python.framework/Versions/3.12/lib/python3.12/site-packages/prophet/forecaster.py:1872: FutureWarning: 'M' is deprecated and will be removed in a future version, please use 'ME' instead.\n",
      "  dates = pd.date_range(\n"
     ]
    }
   ],
   "execution_count": 13
  },
  {
   "metadata": {
    "ExecuteTime": {
     "end_time": "2025-10-02T16:56:58.556480Z",
     "start_time": "2025-10-02T16:56:57.459203Z"
    }
   },
   "cell_type": "code",
   "source": [
    "X = df[[\"Age\",\"Gender\",\"Income\",\"Customer_Segment\",\"Amount\",\"Total_Purchases\"]]\n",
    "y = df[\"Customer_Segment\"]\n",
    "from sklearn.impute import SimpleImputer\n",
    "num_cols = [\"Age\",\"Amount\",\"Total_Purchases\"]\n",
    "X[num_cols] = SimpleImputer(strategy=\"median\").fit_transform(X[num_cols])\n"
   ],
   "id": "a97dae73d5b6bf87",
   "outputs": [
    {
     "name": "stderr",
     "output_type": "stream",
     "text": [
      "/var/folders/vf/rbbd31d52x71bpbg3sn62p3r0000gn/T/ipykernel_48267/47305341.py:5: SettingWithCopyWarning: \n",
      "A value is trying to be set on a copy of a slice from a DataFrame.\n",
      "Try using .loc[row_indexer,col_indexer] = value instead\n",
      "\n",
      "See the caveats in the documentation: https://pandas.pydata.org/pandas-docs/stable/user_guide/indexing.html#returning-a-view-versus-a-copy\n",
      "  X[num_cols] = SimpleImputer(strategy=\"median\").fit_transform(X[num_cols])\n"
     ]
    }
   ],
   "execution_count": 14
  },
  {
   "metadata": {
    "ExecuteTime": {
     "end_time": "2025-10-02T16:57:17.676091Z",
     "start_time": "2025-10-02T16:57:17.604633Z"
    }
   },
   "cell_type": "code",
   "source": [
    "from sklearn.model_selection import train_test_split\n",
    "X_train, X_test, y_train, y_test = train_test_split(\n",
    "    X, y, test_size=0.2, random_state=42, stratify=y)\n"
   ],
   "id": "2c2e2735ae5173bb",
   "outputs": [],
   "execution_count": 16
  },
  {
   "metadata": {
    "jupyter": {
     "is_executing": true
    },
    "ExecuteTime": {
     "start_time": "2025-10-02T16:57:34.380419Z"
    }
   },
   "cell_type": "code",
   "source": [
    "from sklearn.ensemble import RandomForestClassifier, GradientBoostingClassifier\n",
    "from sklearn.linear_model import LogisticRegression\n",
    "from sklearn.svm import SVC\n",
    "from sklearn.neighbors import KNeighborsClassifier\n",
    "\n",
    "models = [\n",
    "    LogisticRegression(max_iter=500, random_state=42),\n",
    "    RandomForestClassifier(n_estimators=100, random_state=42),\n",
    "    GradientBoostingClassifier(random_state=42),\n",
    "    SVC(kernel=\"rbf\", probability=True, random_state=42),\n",
    "    KNeighborsClassifier(n_neighbors=5)\n",
    "]\n",
    "\n",
    "for m in models:\n",
    "    m.fit(X_train, y_train)\n"
   ],
   "id": "9bb39c4dc3aadd20",
   "outputs": [
    {
     "name": "stderr",
     "output_type": "stream",
     "text": [
      "/Library/Frameworks/Python.framework/Versions/3.12/lib/python3.12/site-packages/sklearn/linear_model/_logistic.py:473: ConvergenceWarning: lbfgs failed to converge after 500 iteration(s) (status=1):\n",
      "STOP: TOTAL NO. OF ITERATIONS REACHED LIMIT\n",
      "\n",
      "Increase the number of iterations to improve the convergence (max_iter=500).\n",
      "You might also want to scale the data as shown in:\n",
      "    https://scikit-learn.org/stable/modules/preprocessing.html\n",
      "Please also refer to the documentation for alternative solver options:\n",
      "    https://scikit-learn.org/stable/modules/linear_model.html#logistic-regression\n",
      "  n_iter_i = _check_optimize_result(\n"
     ]
    }
   ],
   "execution_count": null
  },
  {
   "metadata": {},
   "cell_type": "code",
   "outputs": [],
   "execution_count": null,
   "source": [
    "from sklearn.metrics import accuracy_score\n",
    "\n",
    "for m in models:\n",
    "    y_pred = m.predict(X_test)\n",
    "    print(type(m).__name__, \"Accuracy:\", accuracy_score(y_test, y_pred))\n"
   ],
   "id": "6faf53d6ec1c1656"
  }
 ],
 "metadata": {
  "kernelspec": {
   "display_name": "Python 3",
   "language": "python",
   "name": "python3"
  },
  "language_info": {
   "codemirror_mode": {
    "name": "ipython",
    "version": 2
   },
   "file_extension": ".py",
   "mimetype": "text/x-python",
   "name": "python",
   "nbconvert_exporter": "python",
   "pygments_lexer": "ipython2",
   "version": "2.7.6"
  }
 },
 "nbformat": 4,
 "nbformat_minor": 5
}
