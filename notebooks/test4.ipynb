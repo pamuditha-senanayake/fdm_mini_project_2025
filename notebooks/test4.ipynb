{
 "cells": [
  {
   "cell_type": "code",
   "id": "initial_id",
   "metadata": {
    "collapsed": true,
    "ExecuteTime": {
     "end_time": "2025-10-02T17:35:28.875845Z",
     "start_time": "2025-10-02T17:35:25.421921Z"
    }
   },
   "source": [
    "import pandas as pd\n",
    "from sklearn.preprocessing import LabelEncoder\n",
    "\n",
    "df = pd.read_csv(\"../data/raw/data.csv\")\n",
    "df = df.drop_duplicates()\n",
    "df = df.dropna(subset=[\"Customer_ID\", \"Amount\", \"Product_Category\"])\n",
    "df = df.fillna({\"Income\": \"Unknown\", \"Feedback\": \"No Feedback\"})\n",
    "df['Date'] = pd.to_datetime(df['Date'])\n",
    "\n",
    "cat_cols = [\"Gender\", \"Income\", \"Customer_Segment\", \"Product_Category\"]\n",
    "for col in cat_cols:\n",
    "    df[col] = LabelEncoder().fit_transform(df[col].astype(str))\n"
   ],
   "outputs": [],
   "execution_count": 1
  },
  {
   "metadata": {
    "ExecuteTime": {
     "end_time": "2025-10-02T17:35:36.578295Z",
     "start_time": "2025-10-02T17:35:36.031752Z"
    }
   },
   "cell_type": "code",
   "source": [
    "from sklearn.impute import SimpleImputer\n",
    "from sklearn.model_selection import train_test_split\n",
    "\n",
    "X = df[[\"Age\", \"Gender\", \"Income\", \"Amount\", \"Total_Purchases\"]]\n",
    "y = df[\"Customer_Segment\"]\n",
    "\n",
    "num_cols = [\"Age\", \"Amount\", \"Total_Purchases\"]\n",
    "X.loc[:, num_cols] = SimpleImputer(strategy=\"median\").fit_transform(X[num_cols])\n",
    "\n",
    "X_train, X_test, y_train, y_test = train_test_split(\n",
    "    X, y, test_size=0.2, random_state=42, stratify=y\n",
    ")\n"
   ],
   "id": "8c0f4014fe8029a9",
   "outputs": [],
   "execution_count": 2
  },
  {
   "metadata": {
    "ExecuteTime": {
     "end_time": "2025-10-02T17:36:42.750488Z",
     "start_time": "2025-10-02T17:35:39.592327Z"
    }
   },
   "cell_type": "code",
   "source": [
    "from sklearn.ensemble import RandomForestClassifier\n",
    "\n",
    "rf_model = RandomForestClassifier(\n",
    "    n_estimators=200,\n",
    "    random_state=42,\n",
    "    class_weight=\"balanced\"\n",
    ")\n",
    "rf_model.fit(X_train, y_train)\n",
    "y_pred = rf_model.predict(X_test)\n"
   ],
   "id": "ac7b5e87c6d614d3",
   "outputs": [],
   "execution_count": 3
  },
  {
   "metadata": {
    "ExecuteTime": {
     "end_time": "2025-10-02T17:36:46.343061Z",
     "start_time": "2025-10-02T17:36:46.199070Z"
    }
   },
   "cell_type": "code",
   "source": [
    "from sklearn.metrics import accuracy_score, classification_report\n",
    "\n",
    "print(\"Test Accuracy:\", accuracy_score(y_test, y_pred))\n",
    "print(\"\\nClassification Report:\\n\", classification_report(y_test, y_pred))\n"
   ],
   "id": "cc54ae23929b4142",
   "outputs": [
    {
     "name": "stdout",
     "output_type": "stream",
     "text": [
      "Test Accuracy: 0.4674317411811599\n",
      "\n",
      "Classification Report:\n",
      "               precision    recall  f1-score   support\n",
      "\n",
      "           0       0.39      0.39      0.39     18180\n",
      "           1       0.28      0.28      0.28     12834\n",
      "           2       0.59      0.60      0.60     29155\n",
      "           3       0.00      0.00      0.00        43\n",
      "\n",
      "    accuracy                           0.47     60212\n",
      "   macro avg       0.32      0.32      0.32     60212\n",
      "weighted avg       0.47      0.47      0.47     60212\n",
      "\n"
     ]
    }
   ],
   "execution_count": 4
  },
  {
   "metadata": {},
   "cell_type": "code",
   "outputs": [],
   "execution_count": null,
   "source": [
    "#Class 3 has extremely few samples (43) → model literally cannot learn it.\n",
    "#Classes are heavily imbalanced → simple RandomForest mostly predicts the majority class (2)."
   ],
   "id": "91895cbb5f7ab1d2"
  }
 ],
 "metadata": {
  "kernelspec": {
   "display_name": "Python 3",
   "language": "python",
   "name": "python3"
  },
  "language_info": {
   "codemirror_mode": {
    "name": "ipython",
    "version": 2
   },
   "file_extension": ".py",
   "mimetype": "text/x-python",
   "name": "python",
   "nbconvert_exporter": "python",
   "pygments_lexer": "ipython2",
   "version": "2.7.6"
  }
 },
 "nbformat": 4,
 "nbformat_minor": 5
}
